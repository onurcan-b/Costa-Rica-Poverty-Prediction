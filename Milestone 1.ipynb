{
 "cells": [
  {
   "cell_type": "markdown",
   "metadata": {},
   "source": [
    "# Group The Order of the PyTorch\n",
    "\n",
    "Members: Onur Buyukkalkan, Yi-Huai Chang, Diyanet Nijiati\n",
    "\n",
    "Project: Costa Rica Household Poverty Prediction"
   ]
  },
  {
   "cell_type": "code",
   "execution_count": null,
   "metadata": {
    "vscode": {
     "languageId": "plaintext"
    }
   },
   "outputs": [],
   "source": []
  }
 ],
 "metadata": {
  "language_info": {
   "name": "python"
  }
 },
 "nbformat": 4,
 "nbformat_minor": 2
}
